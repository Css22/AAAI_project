{
 "cells": [
  {
   "cell_type": "code",
   "execution_count": null,
   "metadata": {},
   "outputs": [],
   "source": [
    "import torch\n",
    "import numpy as np\n",
    "from sklearn.cluster import KMeans\n",
    "from torch.utils.data import DataLoader\n",
    "from work.data import *\n",
    "import matplotlib.pyplot as plt\n",
    "path = '/data/zbw/course/AAAI/project/AAAI_project'\n",
    "\n",
    "path_to_data = '/path/to/your/data'\n",
    "batch_size = 256  # 或您选择的任何适当的批量大小\n",
    "transform = None\n",
    "train_data = MinistDataLoader(root_dir= path  + '/processed_data/train/', transform=transform)\n",
    "train_data_loader = DataLoader(train_data, batch_size=batch_size, shuffle=True, num_workers=2)\n",
    "\n",
    "def extract_features(data_loader):\n",
    "    features = []\n",
    "    for batch in data_loader:\n",
    "        samples, _ = batch\n",
    "        samples = samples.view(samples.size(0), -1)\n",
    "        features.append(samples.numpy())\n",
    "    return np.concatenate(features, axis=0)\n",
    "\n",
    "train_features = extract_features(train_data_loader)\n",
    "\n",
    "k_values = range(1, 20)  # 比如测试从1到19的k值\n",
    "wcss = []  # 用于存储每个k值的WCSS\n",
    "\n",
    "for k in k_values:\n",
    "    kmeans = KMeans(n_clusters=k, random_state=0)\n",
    "    kmeans.fit(train_features)\n",
    "    wcss.append(kmeans.inertia_)\n",
    "    print(kmeans.inertia_, k)\n",
    "\n",
    "plt.plot(k_values, wcss, 'bo-')\n",
    "plt.title('Elbow Method For Optimal k')\n",
    "plt.xlabel('Number of clusters (k)')\n",
    "plt.ylabel('Within-Cluster Sum of Squares (WCSS)')\n",
    "plt.show()"
   ]
  }
 ],
 "metadata": {
  "kernelspec": {
   "display_name": "AAAI",
   "language": "python",
   "name": "python3"
  },
  "language_info": {
   "name": "python",
   "version": "3.9.18"
  }
 },
 "nbformat": 4,
 "nbformat_minor": 2
}
